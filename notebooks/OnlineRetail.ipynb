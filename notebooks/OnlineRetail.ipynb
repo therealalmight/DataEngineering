{
 "cells": [
  {
   "cell_type": "code",
   "execution_count": 2,
   "id": "0c339cf4",
   "metadata": {},
   "outputs": [
    {
     "name": "stdout",
     "output_type": "stream",
     "text": [
      "+---------+---------+--------------------+--------+------------+---------+----------+--------------+\n",
      "|InvoiceNo|StockCode|         Description|Quantity| InvoiceDate|UnitPrice|CustomerID|       Country|\n",
      "+---------+---------+--------------------+--------+------------+---------+----------+--------------+\n",
      "|   536365|     NULL|WHITE HANGING HEA...|     6.0|12/1/10 8:26|     2.55|     17850|United Kingdom|\n",
      "|   536365|    71053| WHITE METAL LANTERN|     6.0|12/1/10 8:26|     3.39|     17850|United Kingdom|\n",
      "|   536365|     NULL|CREAM CUPID HEART...|     8.0|12/1/10 8:26|     2.75|     17850|United Kingdom|\n",
      "|   536365|     NULL|KNITTED UNION FLA...|     6.0|12/1/10 8:26|     3.39|     17850|United Kingdom|\n",
      "|   536365|     NULL|RED WOOLLY HOTTIE...|     6.0|12/1/10 8:26|     3.39|     17850|United Kingdom|\n",
      "|   536365|    22752|SET 7 BABUSHKA NE...|     2.0|12/1/10 8:26|     7.65|     17850|United Kingdom|\n",
      "|   536365|    21730|GLASS STAR FROSTE...|     6.0|12/1/10 8:26|     4.25|     17850|United Kingdom|\n",
      "|   536366|    22633|HAND WARMER UNION...|     6.0|12/1/10 8:28|     1.85|     17850|United Kingdom|\n",
      "|   536366|    22632|HAND WARMER RED P...|     6.0|12/1/10 8:28|     1.85|     17850|United Kingdom|\n",
      "|   536367|    84879|ASSORTED COLOUR B...|    32.0|12/1/10 8:34|     1.69|     13047|United Kingdom|\n",
      "+---------+---------+--------------------+--------+------------+---------+----------+--------------+\n",
      "only showing top 10 rows\n",
      "\n"
     ]
    }
   ],
   "source": [
    "from pyspark.sql import SparkSession\n",
    "from pyspark.sql.types import StructType, StructField, StringType, IntegerType, DoubleType\n",
    "\n",
    "spark = SparkSession.builder\\\n",
    "        .appName(\"Data Ingestion\")\\\n",
    "        .getOrCreate()\n",
    "\n",
    "schema = StructType([\n",
    "    StructField(\"InvoiceNo\", IntegerType(), nullable=False),\n",
    "    StructField(\"StockCode\", IntegerType(), nullable=False),\n",
    "    StructField(\"Description\", StringType(), nullable=False),\n",
    "    StructField(\"Quantity\", DoubleType(), nullable=False),\n",
    "    StructField(\"InvoiceDate\", StringType(), nullable=False),\n",
    "    StructField(\"UnitPrice\", DoubleType(), nullable=False),\n",
    "    StructField(\"CustomerID\", IntegerType(), nullable=False),\n",
    "    StructField(\"Country\", StringType(), nullable=False)\n",
    "])\n",
    "\n",
    "df = spark.read.format(\"csv\")\\\n",
    "    .option(\"header\", \"true\") \\\n",
    "    .option(\"inferSchema\", \"true\") \\\n",
    "    .schema(schema)\\\n",
    "    .load(\"/workspaces/DataEngineering/Csvs/online_retail.csv\")\n",
    "\n",
    "df.show(10)"
   ]
  },
  {
   "cell_type": "code",
   "execution_count": 10,
   "id": "fb2c95ca",
   "metadata": {},
   "outputs": [
    {
     "name": "stderr",
     "output_type": "stream",
     "text": [
      "                                                                                \r"
     ]
    }
   ],
   "source": [
    "import shutil\n",
    "#Delete if OutputCsv found already\n",
    "file_path = \"/workspaces/DataEngineering/OutputCsv/Country.csv\"\n",
    "shutil.rmtree(file_path)\n",
    "#Create Partition Csv for each country\n",
    "df.write.partitionBy(\"Country\").csv(f\"{file_path}\")"
   ]
  },
  {
   "cell_type": "code",
   "execution_count": 11,
   "id": "af18d8ad",
   "metadata": {},
   "outputs": [],
   "source": [
    "#Define Schema\n",
    "schema1 = StructType([\n",
    "    StructField(\"InvoiceNo\", IntegerType(), nullable=False),\n",
    "    StructField(\"StockCode\", IntegerType(), nullable=False),\n",
    "    StructField(\"Description\", StringType(), nullable=False),\n",
    "    StructField(\"Quantity\", DoubleType(), nullable=False),\n",
    "    StructField(\"InvoiceDate\", StringType(), nullable=False),\n",
    "    StructField(\"UnitPrice\", DoubleType(), nullable=False),\n",
    "    StructField(\"CustomerID\", IntegerType(), nullable=False),\n",
    "])"
   ]
  },
  {
   "cell_type": "code",
   "execution_count": 12,
   "id": "f5fa9ec6",
   "metadata": {},
   "outputs": [
    {
     "name": "stdout",
     "output_type": "stream",
     "text": [
      "+---------+---------+--------------------+--------+-------------+---------+----------+\n",
      "|InvoiceNo|StockCode|         Description|Quantity|  InvoiceDate|UnitPrice|CustomerID|\n",
      "+---------+---------+--------------------+--------+-------------+---------+----------+\n",
      "|   563031|    21932|SCANDINAVIAN PAIS...|     2.0|8/11/11 14:38|     1.65|     13263|\n",
      "|   563031|    23209|LUNCH BAG VINTAGE...|     1.0|8/11/11 14:38|     1.65|     13263|\n",
      "|   563031|    22384|LUNCH BAG PINK PO...|     2.0|8/11/11 14:38|     1.65|     13263|\n",
      "|   563031|    20727|LUNCH BAG  BLACK ...|     1.0|8/11/11 14:38|     1.65|     13263|\n",
      "|   563031|    22383|LUNCH BAG SUKI DE...|     2.0|8/11/11 14:38|     1.65|     13263|\n",
      "|   563031|    23208|LUNCH BAG VINTAGE...|     1.0|8/11/11 14:38|     1.65|     13263|\n",
      "|   563031|    20725|LUNCH BAG RED RET...|     2.0|8/11/11 14:38|     1.65|     13263|\n",
      "|   563031|    20728| LUNCH BAG CARS BLUE|     2.0|8/11/11 14:38|     1.65|     13263|\n",
      "|   563031|    23207|LUNCH BAG ALPHABE...|     2.0|8/11/11 14:38|     1.65|     13263|\n",
      "|   563031|     NULL|SMALL MARSHMALLOW...|     2.0|8/11/11 14:38|     0.42|     13263|\n",
      "|   563031|     NULL|SMALL DOLLY MIX D...|     2.0|8/11/11 14:38|     0.42|     13263|\n",
      "|   563031|     NULL|SMALL CHOCOLATES ...|     2.0|8/11/11 14:38|     0.42|     13263|\n",
      "|   563031|     NULL|BISCUITS SMALL BO...|     1.0|8/11/11 14:38|     0.42|     13263|\n",
      "|   563031|    21218|RED SPOTTY BISCUI...|     1.0|8/11/11 14:38|     3.75|     13263|\n",
      "|   563031|    23301|GARDENERS KNEELIN...|     1.0|8/11/11 14:38|     1.65|     13263|\n",
      "|   563031|    23300|GARDENERS KNEELIN...|     1.0|8/11/11 14:38|     1.65|     13263|\n",
      "|   563031|     NULL|WHITE HANGING HEA...|     1.0|8/11/11 14:38|     2.95|     13263|\n",
      "|   563031|    23136|IVORY WIRE SWEETH...|     1.0|8/11/11 14:38|     3.75|     13263|\n",
      "|   563031|    23152|IVORY SWEETHEART ...|     1.0|8/11/11 14:38|     3.75|     13263|\n",
      "|   563031|    23321|SMALL WHITE HEART...|     2.0|8/11/11 14:38|     1.65|     13263|\n",
      "+---------+---------+--------------------+--------+-------------+---------+----------+\n",
      "only showing top 20 rows\n",
      "\n"
     ]
    }
   ],
   "source": [
    "#Get All the data according to country name\n",
    "\n",
    "import os\n",
    "\n",
    "country = \"United Kingdom\"\n",
    "\n",
    "# Directory containing the files\n",
    "directory_path = f\"{file_path}/Country={country}\"\n",
    "\n",
    "# List all files in the directory that end with .csv\n",
    "csv_files = [f for f in os.listdir(directory_path) if f.endswith('.csv')]\n",
    "\n",
    "#Create single dataframe for mentioned country\n",
    "for file in csv_files:\n",
    "    UkDf = spark.read.schema(schema1).csv(f\"{directory_path}/{file}\", inferSchema=True)\n",
    "\n",
    "UkDf.show()\n"
   ]
  },
  {
   "cell_type": "code",
   "execution_count": null,
   "id": "e686c46b",
   "metadata": {},
   "outputs": [],
   "source": [
    "#Get top 5 buyer in UK\n",
    "#Most expensive item in UK\n",
    "#Least expensive item in UK\n",
    "#Average money spent by each buyer(remove null & negative outliers)\n",
    "#Date on which customers bought most"
   ]
  },
  {
   "cell_type": "markdown",
   "id": "19b971f3",
   "metadata": {},
   "source": [
    "Get top 5 buyer in UK"
   ]
  },
  {
   "cell_type": "code",
   "execution_count": 23,
   "id": "76538351",
   "metadata": {},
   "outputs": [],
   "source": [
    "#Drop null values in the dataset\n",
    "UkDf = UkDf.dropna(subset=[\"Quantity\", \"UnitPrice\", \"CustomerID\"])"
   ]
  },
  {
   "cell_type": "code",
   "execution_count": 24,
   "id": "7a90823a",
   "metadata": {},
   "outputs": [],
   "source": [
    "#Get temp table\n",
    "tableName = \"UnitedKingdom\"\n",
    "UkDf.createOrReplaceTempView(tableName)"
   ]
  },
  {
   "cell_type": "code",
   "execution_count": 25,
   "id": "6512bdff",
   "metadata": {},
   "outputs": [
    {
     "name": "stdout",
     "output_type": "stream",
     "text": [
      "+----------+------------------+\n",
      "|CustomerID|        TotalPrice|\n",
      "+----------+------------------+\n",
      "|     18102|129120.06999999996|\n",
      "|     17450|119534.68999999994|\n",
      "|     14096| 57120.91000000003|\n",
      "|     17511| 35551.64999999998|\n",
      "|     16684| 32770.05999999999|\n",
      "+----------+------------------+\n",
      "\n"
     ]
    }
   ],
   "source": [
    "UkSql = spark.sql(f\"SELECT CustomerID, SUM(Quantity*UnitPrice) AS TotalPrice FROM {tableName} GROUP BY CustomerID ORDER BY TotalPrice DESC LIMIT 5\")\n",
    "UkSql.show()"
   ]
  },
  {
   "cell_type": "markdown",
   "id": "ee5c9844",
   "metadata": {},
   "source": [
    "Most expensive item in UK"
   ]
  },
  {
   "cell_type": "code",
   "execution_count": 26,
   "id": "6cb8236e",
   "metadata": {},
   "outputs": [
    {
     "name": "stdout",
     "output_type": "stream",
     "text": [
      "+-----------+---------+\n",
      "|Description|UnitPrice|\n",
      "+-----------+---------+\n",
      "|     Manual|  3155.95|\n",
      "+-----------+---------+\n",
      "\n"
     ]
    },
    {
     "name": "stderr",
     "output_type": "stream",
     "text": [
      "                                                                                \r"
     ]
    }
   ],
   "source": [
    "UkSql = spark.sql(f\"SELECT Description, UnitPrice FROM {tableName} ORDER BY UnitPrice DESC LIMIT 1\")\n",
    "UkSql.show()"
   ]
  },
  {
   "cell_type": "markdown",
   "id": "d715340c",
   "metadata": {},
   "source": [
    "Least expensive item in UK"
   ]
  },
  {
   "cell_type": "code",
   "execution_count": 27,
   "id": "87697590",
   "metadata": {},
   "outputs": [
    {
     "name": "stdout",
     "output_type": "stream",
     "text": [
      "+--------------------+---------+\n",
      "|         Description|UnitPrice|\n",
      "+--------------------+---------+\n",
      "|HANGING METAL HEA...|      0.0|\n",
      "+--------------------+---------+\n",
      "\n"
     ]
    }
   ],
   "source": [
    "UkSql = spark.sql(f\"SELECT Description, UnitPrice FROM {tableName} ORDER BY UnitPrice ASC LIMIT 1\")\n",
    "UkSql.show()"
   ]
  },
  {
   "cell_type": "markdown",
   "id": "90a5d122",
   "metadata": {},
   "source": [
    "Average money spent by each buyer(remove null & negative outliers)."
   ]
  },
  {
   "cell_type": "code",
   "execution_count": null,
   "id": "c6c26fd6",
   "metadata": {},
   "outputs": [],
   "source": []
  }
 ],
 "metadata": {
  "kernelspec": {
   "display_name": "Python 3 (ipykernel)",
   "language": "python",
   "name": "python3"
  },
  "language_info": {
   "codemirror_mode": {
    "name": "ipython",
    "version": 3
   },
   "file_extension": ".py",
   "mimetype": "text/x-python",
   "name": "python",
   "nbconvert_exporter": "python",
   "pygments_lexer": "ipython3",
   "version": "3.10.13"
  }
 },
 "nbformat": 4,
 "nbformat_minor": 5
}
